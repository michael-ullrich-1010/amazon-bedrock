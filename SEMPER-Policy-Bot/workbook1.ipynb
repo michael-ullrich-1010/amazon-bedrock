{
 "cells": [
  {
   "cell_type": "markdown",
   "id": "c00af9a8",
   "metadata": {},
   "source": [
    "# Use-Case\n",
    "GenAI what will be \"trained\" on the SEMPER Policy Language: https://github.com/nuvibit/semper-policy-repo-sample/wiki\n",
    "\n",
    "The solution will accept prompts (samples below), generate an SEMPER policy, and validate the policy in a compiler.\n",
    "After sucessfull compilation  there shall be an option, to check-in the policy to the right place in the policy repository.\n",
    "\n",
    "###Sample Prompts\n",
    "\n",
    "``` \n",
    "I want to detect the usage of 'root' user in all accounts, where the account tag 'Environment' starts with 'Production' or 'Core'.\n",
    "```\n",
    "\n",
    "``` \n",
    "I want to disable the control IDs 4.* of the Security Hub Standard CIS AWS Foundations Benchmark 1.4.\n",
    "```\n",
    "\n",
    "``` \n",
    "I want to archive all GuardDuty Findings that originate from a specific actor.\n",
    "```\n",
    "\n",
    "```\n",
    "I want an enrichment policy to trigger an auto-remediation for the open security group port TCP80.\n",
    "```\n",
    "\n",
    "```\n",
    "I want an enrichment policy to trigger an auto-remediation for the open security group port TCP80.\n",
    "The policy should be applied to all accounts where the account tag 'Owner' starts with 'Donald Duck'.\n",
    "```\n",
    "\n",
    "```\n",
    "I want an enrichment policy to trigger an auto-remediation for the open security group port TCP80.\n",
    "The policy should be applied to all accounts where the account tag 'Owner' starts with 'Pluto' and that are in the Organization Unit \"Sandbox\".\n",
    "```\n",
    "\n",
    "``` \n",
    "I want an enrichanment policy to trigger an auto-remediation for the open security group port TCP80.\n",
    "The policy should be applied to all accounts where the account tag 'Owner' starts with 'Pluto' or 'Donald Duck' in or below the Organization Unit \"Department1\".\n",
    "```"
   ]
  },
  {
   "cell_type": "markdown",
   "id": "bcd7cd95-a67b-4fad-b744-131303b98ade",
   "metadata": {},
   "source": [
    "AWS-Account: 678856817733  \n",
    "Region: US-West-2\n",
    "\n",
    "https://us-west-2.console.aws.amazon.com/sagemaker/home?region=us-west-2#/  \n",
    "https://us-west-2.console.aws.amazon.com/sagemaker/home?region=us-west-2#/studio/open/d-warwybct01ai/default-20230911t173777\n",
    "\n",
    "https://github.com/aws-samples/amazon-bedrock-workshop\n",
    "\n",
    "Ensure this permission is added to the execution role of the SageMaker Studio Profile:\n",
    "```json {linenos=table,hl_lines=[],linenostart=50}\n",
    "\n",
    "{\n",
    "    \"Version\": \"2012-10-17\",\n",
    "    \"Statement\": [\n",
    "        {\n",
    "            \"Sid\": \"BedrockFullAccess\",\n",
    "            \"Effect\": \"Allow\",\n",
    "            \"Action\": [\"bedrock:*\"],\n",
    "            \"Resource\": \"*\"\n",
    "        }\n",
    "    ]\n",
    "}\n",
    "```\n",
    "\n",
    "\n"
   ]
  },
  {
   "cell_type": "code",
   "execution_count": 2,
   "id": "e21eb078",
   "metadata": {
    "tags": []
   },
   "outputs": [
    {
     "name": "stdout",
     "output_type": "stream",
     "text": [
      "\u001b[33mWARNING: Requirement '../dependencies/awscli-*-py3-none-any.whl' looks like a filename, but the file does not exist\u001b[0m\u001b[33m\n",
      "\u001b[0m\u001b[33mWARNING: Requirement '../dependencies/boto3-*-py3-none-any.whl' looks like a filename, but the file does not exist\u001b[0m\u001b[33m\n",
      "\u001b[0m\u001b[33mWARNING: Requirement '../dependencies/botocore-*-py3-none-any.whl' looks like a filename, but the file does not exist\u001b[0m\u001b[33m\n",
      "\u001b[0mProcessing /root/michael-amazon-bedrock/dependencies/awscli-*-py3-none-any.whl\n",
      "\u001b[31mERROR: Could not install packages due to an OSError: [Errno 2] No such file or directory: '/root/michael-amazon-bedrock/dependencies/awscli-*-py3-none-any.whl'\n",
      "\u001b[0m\u001b[31m\n",
      "\u001b[0mNote: you may need to restart the kernel to use updated packages.\n",
      "\u001b[33mWARNING: Running pip as the 'root' user can result in broken permissions and conflicting behaviour with the system package manager. It is recommended to use a virtual environment instead: https://pip.pypa.io/warnings/venv\u001b[0m\u001b[33m\n",
      "\u001b[0mNote: you may need to restart the kernel to use updated packages.\n",
      "Requirement already satisfied: unstructured in /opt/conda/lib/python3.10/site-packages (0.10.14)\n",
      "Requirement already satisfied: chardet in /opt/conda/lib/python3.10/site-packages (from unstructured) (4.0.0)\n",
      "Requirement already satisfied: filetype in /opt/conda/lib/python3.10/site-packages (from unstructured) (1.2.0)\n",
      "Requirement already satisfied: python-magic in /opt/conda/lib/python3.10/site-packages (from unstructured) (0.4.27)\n",
      "Requirement already satisfied: lxml in /opt/conda/lib/python3.10/site-packages (from unstructured) (4.9.3)\n",
      "Requirement already satisfied: nltk in /opt/conda/lib/python3.10/site-packages (from unstructured) (3.7)\n",
      "Requirement already satisfied: tabulate in /opt/conda/lib/python3.10/site-packages (from unstructured) (0.8.10)\n",
      "Requirement already satisfied: requests in /opt/conda/lib/python3.10/site-packages (from unstructured) (2.31.0)\n",
      "Requirement already satisfied: beautifulsoup4 in /opt/conda/lib/python3.10/site-packages (from unstructured) (4.11.1)\n",
      "Requirement already satisfied: emoji in /opt/conda/lib/python3.10/site-packages (from unstructured) (2.8.0)\n",
      "Requirement already satisfied: dataclasses-json in /opt/conda/lib/python3.10/site-packages (from unstructured) (0.5.14)\n",
      "Requirement already satisfied: soupsieve>1.2 in /opt/conda/lib/python3.10/site-packages (from beautifulsoup4->unstructured) (2.3.1)\n",
      "Requirement already satisfied: marshmallow<4.0.0,>=3.18.0 in /opt/conda/lib/python3.10/site-packages (from dataclasses-json->unstructured) (3.20.1)\n",
      "Requirement already satisfied: typing-inspect<1,>=0.4.0 in /opt/conda/lib/python3.10/site-packages (from dataclasses-json->unstructured) (0.9.0)\n",
      "Requirement already satisfied: click in /opt/conda/lib/python3.10/site-packages (from nltk->unstructured) (8.1.6)\n",
      "Requirement already satisfied: joblib in /opt/conda/lib/python3.10/site-packages (from nltk->unstructured) (1.3.1)\n",
      "Requirement already satisfied: regex>=2021.8.3 in /opt/conda/lib/python3.10/site-packages (from nltk->unstructured) (2022.7.9)\n",
      "Requirement already satisfied: tqdm in /opt/conda/lib/python3.10/site-packages (from nltk->unstructured) (4.64.1)\n",
      "Requirement already satisfied: charset-normalizer<4,>=2 in /opt/conda/lib/python3.10/site-packages (from requests->unstructured) (2.0.4)\n",
      "Requirement already satisfied: idna<4,>=2.5 in /opt/conda/lib/python3.10/site-packages (from requests->unstructured) (3.3)\n",
      "Requirement already satisfied: urllib3<3,>=1.21.1 in /opt/conda/lib/python3.10/site-packages (from requests->unstructured) (1.26.16)\n",
      "Requirement already satisfied: certifi>=2017.4.17 in /opt/conda/lib/python3.10/site-packages (from requests->unstructured) (2023.7.22)\n",
      "Requirement already satisfied: packaging>=17.0 in /opt/conda/lib/python3.10/site-packages (from marshmallow<4.0.0,>=3.18.0->dataclasses-json->unstructured) (21.3)\n",
      "Requirement already satisfied: mypy-extensions>=0.3.0 in /opt/conda/lib/python3.10/site-packages (from typing-inspect<1,>=0.4.0->dataclasses-json->unstructured) (0.4.3)\n",
      "Requirement already satisfied: typing-extensions>=3.7.4 in /opt/conda/lib/python3.10/site-packages (from typing-inspect<1,>=0.4.0->dataclasses-json->unstructured) (4.3.0)\n",
      "Requirement already satisfied: pyparsing!=3.0.5,>=2.0.2 in /opt/conda/lib/python3.10/site-packages (from packaging>=17.0->marshmallow<4.0.0,>=3.18.0->dataclasses-json->unstructured) (3.0.9)\n",
      "\u001b[33mWARNING: Running pip as the 'root' user can result in broken permissions and conflicting behaviour with the system package manager. It is recommended to use a virtual environment instead: https://pip.pypa.io/warnings/venv\u001b[0m\u001b[33m\n",
      "\u001b[0mNote: you may need to restart the kernel to use updated packages.\n"
     ]
    }
   ],
   "source": [
    "# Make sure you ran `download-dependencies.sh` from the root of the repository first!\n",
    "%pip install --no-build-isolation --force-reinstall \\\n",
    "    ../dependencies/awscli-*-py3-none-any.whl \\\n",
    "    ../dependencies/boto3-*-py3-none-any.whl \\\n",
    "    ../dependencies/botocore-*-py3-none-any.whl\n",
    "\n",
    "%pip install --quiet \"faiss-cpu>=1.7,<2\" langchain==0.0.249 \"pypdf>=3.8,<4\"\n",
    "%pip install unstructured\n"
   ]
  },
  {
   "cell_type": "code",
   "execution_count": 3,
   "id": "4480fa26-54a2-44ac-8161-d90d65fcf309",
   "metadata": {
    "tags": []
   },
   "outputs": [
    {
     "name": "stdout",
     "output_type": "stream",
     "text": [
      "Create new client\n",
      "  Using region: us-west-2\n",
      "  Using role: arn:aws:iam::678856817733:role/BedrockRole ... successful!\n",
      "boto3 Bedrock client successfully created!\n",
      "bedrock(https://bedrock.us-west-2.amazonaws.com)\n"
     ]
    }
   ],
   "source": [
    "import json\n",
    "import os\n",
    "import sys\n",
    "\n",
    "import boto3\n",
    "\n",
    "module_path = \"..\"\n",
    "sys.path.append(os.path.abspath(module_path))\n",
    "from utils import bedrock, print_ww\n",
    "\n",
    "\n",
    "os.environ[\"AWS_DEFAULT_REGION\"] = \"us-west-2\"\n",
    "os.environ[\"BEDROCK_ASSUME_ROLE\"] = \"arn:aws:iam::678856817733:role/BedrockRole\"\n",
    "os.environ[\"BEDROCK_ENDPOINT_URL\"] = \"https://bedrock.us-west-2.amazonaws.com\"  # E.g. \"https://...\"\n",
    "\n",
    "\n",
    "boto3_bedrock = bedrock.get_bedrock_client(\n",
    "    assumed_role=os.environ.get(\"BEDROCK_ASSUME_ROLE\", None),\n",
    "    endpoint_url=os.environ.get(\"BEDROCK_ENDPOINT_URL\", None),\n",
    "    region=os.environ.get(\"AWS_DEFAULT_REGION\", None),\n",
    ")"
   ]
  },
  {
   "cell_type": "code",
   "execution_count": 4,
   "id": "c453adf2-3e73-4628-a769-bb2dc1ee9938",
   "metadata": {
    "tags": []
   },
   "outputs": [],
   "source": [
    "# We will be using the Titan Embeddings Model to generate our Embeddings.\n",
    "from langchain.embeddings import BedrockEmbeddings\n",
    "from langchain.llms.bedrock import Bedrock\n",
    "\n",
    "# - create the Anthropic Model\n",
    "llm = Bedrock(model_id=\"anthropic.claude-v1\", client=boto3_bedrock, model_kwargs={'max_tokens_to_sample':1000})\n",
    "bedrock_embeddings = BedrockEmbeddings(client=boto3_bedrock)"
   ]
  },
  {
   "cell_type": "markdown",
   "id": "0181307f-2d77-4598-8b9a-d4da6b95e6f0",
   "metadata": {},
   "source": [
    "## Data Preparation"
   ]
  },
  {
   "cell_type": "code",
   "execution_count": 27,
   "id": "8ae649a5-19f7-4283-9aea-d5e69be53d86",
   "metadata": {
    "tags": []
   },
   "outputs": [],
   "source": [
    "from urllib.request import urlretrieve\n",
    "FOLDERNAME_10_SOURCE = \"10_source\"\n",
    "FOLDERNAME_20_PROCESSED = \"20_processed\"\n",
    "\n",
    "os.makedirs(FOLDERNAME_10_SOURCE, exist_ok=True)\n",
    "files = [\n",
    "    \"https://raw.githubusercontent.com/wiki/nuvibit/semper-policy-repo-sample/Home.md\",\n",
    "    \"https://raw.githubusercontent.com/wiki/nuvibit/semper-policy-repo-sample/10-SEMPER-Policies.md\",\n",
    "    \"https://raw.githubusercontent.com/wiki/nuvibit/semper-policy-repo-sample/90-JSON-Engine.md\",\n",
    "]\n",
    "for url in files:\n",
    "    file_path = os.path.join(FOLDERNAME_10_SOURCE, url.rpartition(\"/\")[2])\n",
    "    urlretrieve(url, file_path)"
   ]
  },
  {
   "cell_type": "code",
   "execution_count": 29,
   "id": "33ebccb2-e73b-4c8d-84a9-360b4dbdc46d",
   "metadata": {
    "tags": []
   },
   "outputs": [],
   "source": [
    "def load_md_from_directory(directory_path):\n",
    "    documents = []\n",
    "    for filename in os.listdir(directory_path):\n",
    "         if filename.endswith('.md'):  # Assuming you want to read .md files\n",
    "            full_path = os.path.join(directory_path, filename)\n",
    "            with open(full_path, 'r', encoding='utf-8') as f:\n",
    "                documents.append({\"filename\": filename, \"raw_text\": f.read()})\n",
    "    return documents\n",
    "\n",
    "def write_chunk_to_file(target_folder, base_filename, counter, chunk):\n",
    "    suffix = \"_\".join(map(str, counter))\n",
    "    filename = f\"{base_filename}_{suffix}.md\"\n",
    "    with open(os.path.join(target_folder, filename), 'w') as f:\n",
    "        f.write(chunk)\n",
    "\n",
    "def get_chunks_and_write_files(target_folder, filename, raw_text):\n",
    "    chunks = []\n",
    "    lines = raw_text.split(\"\\n\")\n",
    "    \n",
    "    chunk = \"\"\n",
    "    counter = []  # List to store counters for each level\n",
    "    for line in lines:\n",
    "        stripped_line = line.strip()\n",
    "\n",
    "        # Check if the line starts with one or more '#' characters\n",
    "        hash_count = len(stripped_line) - len(stripped_line.lstrip('#'))\n",
    "        if hash_count > 0:\n",
    "            if chunk:\n",
    "                # Write the current chunk to a file\n",
    "                write_chunk_to_file(target_folder, filename, counter, chunk)\n",
    "\n",
    "                # Reset the chunk\n",
    "                chunks.append(chunk.strip())\n",
    "                chunk = \"\"\n",
    "\n",
    "            # Update counter list based on the current level\n",
    "            counter = counter[:hash_count]  # Remove counters for deeper levels, if any\n",
    "            if len(counter) < hash_count:\n",
    "                counter.extend([0] * (hash_count - len(counter)))  # Initialize counters for new levels, if any\n",
    "            counter[-1] += 1  # Increment counter for the current level\n",
    "\n",
    "        chunk = chunk + line + \"\\n\"\n",
    "\n",
    "    if chunk:\n",
    "        # Write the last chunk to a file\n",
    "        write_chunk_to_file(target_folder, filename, counter, chunk)\n",
    "\n",
    "        chunks.append(chunk.strip())\n",
    "    \n",
    "    return chunks\n",
    "\n",
    "documents = load_md_from_directory(FOLDERNAME_10_SOURCE)\n",
    "for document in documents:\n",
    "    get_chunks_and_write_files(FOLDERNAME_20_PROCESSED, document[\"filename\"], document[\"raw_text\"])"
   ]
  },
  {
   "cell_type": "code",
   "execution_count": 6,
   "id": "489f9d17-3abe-43d2-9a56-c7ba2697b6fb",
   "metadata": {
    "tags": []
   },
   "outputs": [],
   "source": [
    "import numpy as np\n",
    "from langchain.text_splitter import CharacterTextSplitter\n",
    "from langchain.document_loaders import UnstructuredMarkdownLoader\n",
    "from langchain.document_loaders import DirectoryLoader\n",
    "\n",
    "def load_md_from_directory(directory_path):\n",
    "    documents = []\n",
    "    for filename in os.listdir(directory_path):\n",
    "        if filename.endswith('.md'):  # Assuming you want to read .txt files\n",
    "            loader = UnstructuredMarkdownLoader(os.path.join(directory_path, filename))\n",
    "            documents.append(loader.load())\n",
    "    return documents\n",
    "\n",
    "loader = DirectoryLoader(\"./source/\", glob=\"**/*.md\")\n",
    "\n",
    "documents = loader.load()\n",
    "# - in our testing Character split works better with this PDF data set\n",
    "text_splitter = CharacterTextSplitter(\n",
    "    # Set a really small chunk size, just to show.\n",
    "    separator = \"\\n\",\n",
    "    chunk_size = 750,\n",
    "    chunk_overlap  = 0,\n",
    ")\n",
    "docs = text_splitter.split_documents(documents)"
   ]
  },
  {
   "cell_type": "code",
   "execution_count": 7,
   "id": "9f9128b8-4611-48a2-aa90-a56eba37d5fa",
   "metadata": {
    "tags": []
   },
   "outputs": [
    {
     "name": "stdout",
     "output_type": "stream",
     "text": [
      "Average length among 3 documents loaded is 14180 characters.\n",
      "After the split we have 61 documents more than the original 3.\n",
      "Average length among 61 documents (after split) is 687 characters.\n"
     ]
    }
   ],
   "source": [
    "avg_doc_length = lambda documents: sum([len(doc.page_content) for doc in documents])//len(documents)\n",
    "avg_char_count_pre = avg_doc_length(documents)\n",
    "avg_char_count_post = avg_doc_length(docs)\n",
    "print(f'Average length among {len(documents)} documents loaded is {avg_char_count_pre} characters.')\n",
    "print(f'After the split we have {len(docs)} documents more than the original {len(documents)}.')\n",
    "print(f'Average length among {len(docs)} documents (after split) is {avg_char_count_post} characters.')"
   ]
  },
  {
   "cell_type": "code",
   "execution_count": 8,
   "id": "2cd974e5-25ce-4fd4-98c1-995373daf1cb",
   "metadata": {
    "tags": []
   },
   "outputs": [],
   "source": [
    "from langchain.chains.question_answering import load_qa_chain\n",
    "from langchain.vectorstores import FAISS\n",
    "from langchain.indexes import VectorstoreIndexCreator\n",
    "from langchain.indexes.vectorstore import VectorStoreIndexWrapper\n",
    "\n",
    "vectorstore_faiss = FAISS.from_documents(\n",
    "    docs,\n",
    "    bedrock_embeddings,\n",
    ")\n",
    "\n",
    "wrapper_store_faiss = VectorStoreIndexWrapper(vectorstore=vectorstore_faiss)"
   ]
  },
  {
   "cell_type": "code",
   "execution_count": 9,
   "id": "da5627a8-84f3-45a4-bfe4-deaf9b6b2c55",
   "metadata": {
    "tags": []
   },
   "outputs": [],
   "source": [
    "query = \"I want to get a enrichment policy to trigger an auto-remediation for the open security group port TCP80.\""
   ]
  },
  {
   "cell_type": "code",
   "execution_count": 10,
   "id": "18e79382-fe72-46e4-9d78-39b842f2509e",
   "metadata": {
    "tags": []
   },
   "outputs": [
    {
     "data": {
      "text/plain": [
       "array([ 0.05932617,  0.04003906,  0.296875  , ..., -0.15625   ,\n",
       "        0.02954102,  0.01116943])"
      ]
     },
     "execution_count": 10,
     "metadata": {},
     "output_type": "execute_result"
    }
   ],
   "source": [
    "query_embedding = vectorstore_faiss.embedding_function(query)\n",
    "np.array(query_embedding)"
   ]
  },
  {
   "cell_type": "code",
   "execution_count": 11,
   "id": "b6554ee4-5ff1-4143-bfb9-3b51476b1189",
   "metadata": {
    "tags": []
   },
   "outputs": [
    {
     "name": "stdout",
     "output_type": "stream",
     "text": [
      "4 documents are fetched which are relevant to the query.\n",
      "----\n",
      "## Document 1: | ...findingResource    | object | (optional) |\n",
      "| ....id                | string | (optional, default = '') you can self-reference the JSON of the\n",
      "processed Security Finding.\n",
      "Example: 'raw.detail.requestParameters.keyId' |\n",
      "| ....type              | string | (optional, default = 'AwsAccount') according to\n",
      "AWS documentation. |\n",
      "Samples of Extension-Policies  🔝\n",
      "Sample 1 🔝\n",
      "json {linenos=table,hl_lines=[],linenostart=50}\n",
      "{\n",
      "  \"metaData\": {\n",
      "    \"domain\": \"extension\",\n",
      "    \"title\": \"Auto-Remediation of TCP-Ports 22 & 3389 for CIDR range /24\",\n",
      "    ...\n",
      "  },\n",
      "  \"extension\": {\n",
      "    \"policyScope\": {\n",
      "      ...\n",
      "    },\n",
      "    \"findingPattern\": {\n",
      "      ...\n",
      "    },\n",
      "    \"extensionBlock\": {\n",
      "      \"sqsFanOut\": [\n",
      "        {.......\n",
      "---\n",
      "## Document 2: \"findingComplianceStatus\" : \"FAILED\",\n",
      "      }\n",
      "    }\n",
      "  }\n",
      "}\n",
      "Processed Security Finding  🔝\n",
      "A processed Security Finding will sent to one of two SNS topics.\n",
      "The JSON of the processed Security Finding is shown below.\n",
      "json {linenos=table,hl_lines=[],linenostart=50}\n",
      "{\n",
      "    \"normalized\": {\n",
      "        \"rawHash\": \"981a50a50765abebb04e104ea7e6e8f4\",\n",
      "        \"time\": \"2023-02-10T13:38:32Z\",\n",
      "        \"ouId\": \"ou-srnr-k9szj6mg\",\n",
      "        \"ouName\": \"Branding\",\n",
      "        \"ouNameWithPath\": \"Root/Branding/\",\n",
      "        \"accountId\": \"***\",\n",
      "        \"accountName\": \"aws-c1-security\",\n",
      "        \"accountTags\": {\n",
      "            \"account_email\": \"accounts+aws-c1-security@nuvibit.com\",\n",
      "            \"environment\": \"prod\",\n",
      "            \"recycled\": \"false\",.......\n",
      "---\n",
      "## Document 3: | . . .maximumExecutionFrequency | string       | (Only required if messageType is\n",
      "'ScheduledNotification') According to\n",
      "AWS Config Managed Rules API Reference |\n",
      "| . .inputParameters             | string       | (optional) A string, in JSON format, that is\n",
      "passed to the Config rule Lambda function. |\n",
      "AWS EventBridge Rule Policies  🔝\n",
      "Folder: /10_configure/event_rules\n",
      "This policies allow you to provision custom AWS EventBridge Rules to your member accounts.\n",
      "SEMPER uses boto3 Events.Client.put_rule for this feature.\n",
      "json {linenos=table,hl_lines=[],linenostart=50}\n",
      "{\n",
      "  ...\n",
      "  \"configure\": {\n",
      "    \"policyScope\": {...},\n",
      "    \"eventSettings\": {\n",
      "      \"eventName\": 'string' according to boto3 Name-specification - will be prefixed with\n",
      "\"semper-\",.......\n",
      "---\n",
      "## Document 4: Via a git-flow, SEMPER allows policy-driven selective provisioning of sensors (AWS\n",
      "Config Rules, AWS Event Rules) and tailoring of AWS Security Hub Standards and -Controls for your\n",
      "AWS accounts.\n",
      "Processing\n",
      "The following security findings get aggregted into a central AWS account and enriched with account\n",
      "context:\n",
      "provisioned AWS Config Rules, AWS Event Rules (Sensors form SEMPER Configure)\n",
      "Core AWS Security Hub Findings\n",
      "Core Amazon GuardDuty Findings\n",
      "Based on SEMPER policies, this enriched findings can either be filtered (dropped) or enhanced with\n",
      "further instructions for Post-Processing like Auto-Remediation or Monitoring.\n",
      "Post-Processing\n",
      "The enriched security findings will either be sent to a \"dropped\"-SNS or a \"relevant\"-SNS\n",
      "topic........\n",
      "---\n"
     ]
    }
   ],
   "source": [
    "relevant_documents = vectorstore_faiss.similarity_search_by_vector(query_embedding)\n",
    "print(f'{len(relevant_documents)} documents are fetched which are relevant to the query.')\n",
    "print('----')\n",
    "for i, rel_doc in enumerate(relevant_documents):\n",
    "    print_ww(f'## Document {i+1}: {rel_doc.page_content}.......')\n",
    "    print('---')"
   ]
  },
  {
   "cell_type": "code",
   "execution_count": 12,
   "id": "5ebe9628-24b7-4205-840f-15b2bcd4a259",
   "metadata": {
    "tags": []
   },
   "outputs": [
    {
     "name": "stdout",
     "output_type": "stream",
     "text": [
      " To trigger an Auto-Remediation for open TCP Port 80, you can use the following enrichment policy:\n",
      "```json\n",
      "{\n",
      "  \"metaData\": {\n",
      "    \"domain\": \"extension\",\n",
      "    \"title\": \"Auto-Remediation of TCP Port 80\",\n",
      "\n",
      "...\n",
      "  },\n",
      "  \"extension\": {\n",
      "    \"policyScope\": {\n",
      "      \"accountIds\": [\"*\"],\n",
      "      \"awsRegions\": [\"*\"],\n",
      "      \"resourceTypes\": [\"AwsSecurityGroup\"],\n",
      "      \"complianceTypes\": [\"FAILED\"]\n",
      "    },\n",
      "    \"findingPattern\": {\n",
      "      \"detailType\": [\"AWS Security Finding - EC2 Security Group Finding\"],\n",
      "      \"confidence\": [\"MEDIUM\", \"HIGH\"],\n",
      "      \"Title\": [\"Port TCP 80 open\"],\n",
      "      \"recommendation\": [\"Remediate open port 80 on security group\"]\n",
      "    },\n",
      "    \"extensionBlock\": {\n",
      "        \"remediation\": {\n",
      "          \"remediationInstructions\": \"sh sg-policy -sg \",\n",
      "          \"remediationResourceId\": \"air/{security_group.id}\",\n",
      "          \"remediationParameters\": {\n",
      "            \"security_group.id\": \"{findingResource.id}\"\n",
      "          }\n",
      "        }\n",
      "    }\n",
      "  }\n",
      "}\n",
      "```\n",
      "\n",
      "This policy will look for Security Hub findings of type \"AWS Security Finding - EC2 Security Group\n",
      "Finding\" with a title of \"Port TCP 80 open\" and a recommendation to remediate the open port. For\n",
      "matches, it will trigger an auto-remediation by calling a Lambda function \"sg-policy\" and passing it\n",
      "the security group ID to remediate.\n",
      "\n",
      "Hope this helps! Let me know if you have any other questions.\n"
     ]
    }
   ],
   "source": [
    "answer = wrapper_store_faiss.query(question=query, llm=llm)\n",
    "print_ww(answer)"
   ]
  },
  {
   "cell_type": "code",
   "execution_count": null,
   "id": "a75b3873-991c-4e84-8fe7-775036e45205",
   "metadata": {},
   "outputs": [],
   "source": []
  }
 ],
 "metadata": {
  "availableInstances": [
   {
    "_defaultOrder": 0,
    "_isFastLaunch": true,
    "category": "General purpose",
    "gpuNum": 0,
    "hideHardwareSpecs": false,
    "memoryGiB": 4,
    "name": "ml.t3.medium",
    "vcpuNum": 2
   },
   {
    "_defaultOrder": 1,
    "_isFastLaunch": false,
    "category": "General purpose",
    "gpuNum": 0,
    "hideHardwareSpecs": false,
    "memoryGiB": 8,
    "name": "ml.t3.large",
    "vcpuNum": 2
   },
   {
    "_defaultOrder": 2,
    "_isFastLaunch": false,
    "category": "General purpose",
    "gpuNum": 0,
    "hideHardwareSpecs": false,
    "memoryGiB": 16,
    "name": "ml.t3.xlarge",
    "vcpuNum": 4
   },
   {
    "_defaultOrder": 3,
    "_isFastLaunch": false,
    "category": "General purpose",
    "gpuNum": 0,
    "hideHardwareSpecs": false,
    "memoryGiB": 32,
    "name": "ml.t3.2xlarge",
    "vcpuNum": 8
   },
   {
    "_defaultOrder": 4,
    "_isFastLaunch": true,
    "category": "General purpose",
    "gpuNum": 0,
    "hideHardwareSpecs": false,
    "memoryGiB": 8,
    "name": "ml.m5.large",
    "vcpuNum": 2
   },
   {
    "_defaultOrder": 5,
    "_isFastLaunch": false,
    "category": "General purpose",
    "gpuNum": 0,
    "hideHardwareSpecs": false,
    "memoryGiB": 16,
    "name": "ml.m5.xlarge",
    "vcpuNum": 4
   },
   {
    "_defaultOrder": 6,
    "_isFastLaunch": false,
    "category": "General purpose",
    "gpuNum": 0,
    "hideHardwareSpecs": false,
    "memoryGiB": 32,
    "name": "ml.m5.2xlarge",
    "vcpuNum": 8
   },
   {
    "_defaultOrder": 7,
    "_isFastLaunch": false,
    "category": "General purpose",
    "gpuNum": 0,
    "hideHardwareSpecs": false,
    "memoryGiB": 64,
    "name": "ml.m5.4xlarge",
    "vcpuNum": 16
   },
   {
    "_defaultOrder": 8,
    "_isFastLaunch": false,
    "category": "General purpose",
    "gpuNum": 0,
    "hideHardwareSpecs": false,
    "memoryGiB": 128,
    "name": "ml.m5.8xlarge",
    "vcpuNum": 32
   },
   {
    "_defaultOrder": 9,
    "_isFastLaunch": false,
    "category": "General purpose",
    "gpuNum": 0,
    "hideHardwareSpecs": false,
    "memoryGiB": 192,
    "name": "ml.m5.12xlarge",
    "vcpuNum": 48
   },
   {
    "_defaultOrder": 10,
    "_isFastLaunch": false,
    "category": "General purpose",
    "gpuNum": 0,
    "hideHardwareSpecs": false,
    "memoryGiB": 256,
    "name": "ml.m5.16xlarge",
    "vcpuNum": 64
   },
   {
    "_defaultOrder": 11,
    "_isFastLaunch": false,
    "category": "General purpose",
    "gpuNum": 0,
    "hideHardwareSpecs": false,
    "memoryGiB": 384,
    "name": "ml.m5.24xlarge",
    "vcpuNum": 96
   },
   {
    "_defaultOrder": 12,
    "_isFastLaunch": false,
    "category": "General purpose",
    "gpuNum": 0,
    "hideHardwareSpecs": false,
    "memoryGiB": 8,
    "name": "ml.m5d.large",
    "vcpuNum": 2
   },
   {
    "_defaultOrder": 13,
    "_isFastLaunch": false,
    "category": "General purpose",
    "gpuNum": 0,
    "hideHardwareSpecs": false,
    "memoryGiB": 16,
    "name": "ml.m5d.xlarge",
    "vcpuNum": 4
   },
   {
    "_defaultOrder": 14,
    "_isFastLaunch": false,
    "category": "General purpose",
    "gpuNum": 0,
    "hideHardwareSpecs": false,
    "memoryGiB": 32,
    "name": "ml.m5d.2xlarge",
    "vcpuNum": 8
   },
   {
    "_defaultOrder": 15,
    "_isFastLaunch": false,
    "category": "General purpose",
    "gpuNum": 0,
    "hideHardwareSpecs": false,
    "memoryGiB": 64,
    "name": "ml.m5d.4xlarge",
    "vcpuNum": 16
   },
   {
    "_defaultOrder": 16,
    "_isFastLaunch": false,
    "category": "General purpose",
    "gpuNum": 0,
    "hideHardwareSpecs": false,
    "memoryGiB": 128,
    "name": "ml.m5d.8xlarge",
    "vcpuNum": 32
   },
   {
    "_defaultOrder": 17,
    "_isFastLaunch": false,
    "category": "General purpose",
    "gpuNum": 0,
    "hideHardwareSpecs": false,
    "memoryGiB": 192,
    "name": "ml.m5d.12xlarge",
    "vcpuNum": 48
   },
   {
    "_defaultOrder": 18,
    "_isFastLaunch": false,
    "category": "General purpose",
    "gpuNum": 0,
    "hideHardwareSpecs": false,
    "memoryGiB": 256,
    "name": "ml.m5d.16xlarge",
    "vcpuNum": 64
   },
   {
    "_defaultOrder": 19,
    "_isFastLaunch": false,
    "category": "General purpose",
    "gpuNum": 0,
    "hideHardwareSpecs": false,
    "memoryGiB": 384,
    "name": "ml.m5d.24xlarge",
    "vcpuNum": 96
   },
   {
    "_defaultOrder": 20,
    "_isFastLaunch": false,
    "category": "General purpose",
    "gpuNum": 0,
    "hideHardwareSpecs": true,
    "memoryGiB": 0,
    "name": "ml.geospatial.interactive",
    "supportedImageNames": [
     "sagemaker-geospatial-v1-0"
    ],
    "vcpuNum": 0
   },
   {
    "_defaultOrder": 21,
    "_isFastLaunch": true,
    "category": "Compute optimized",
    "gpuNum": 0,
    "hideHardwareSpecs": false,
    "memoryGiB": 4,
    "name": "ml.c5.large",
    "vcpuNum": 2
   },
   {
    "_defaultOrder": 22,
    "_isFastLaunch": false,
    "category": "Compute optimized",
    "gpuNum": 0,
    "hideHardwareSpecs": false,
    "memoryGiB": 8,
    "name": "ml.c5.xlarge",
    "vcpuNum": 4
   },
   {
    "_defaultOrder": 23,
    "_isFastLaunch": false,
    "category": "Compute optimized",
    "gpuNum": 0,
    "hideHardwareSpecs": false,
    "memoryGiB": 16,
    "name": "ml.c5.2xlarge",
    "vcpuNum": 8
   },
   {
    "_defaultOrder": 24,
    "_isFastLaunch": false,
    "category": "Compute optimized",
    "gpuNum": 0,
    "hideHardwareSpecs": false,
    "memoryGiB": 32,
    "name": "ml.c5.4xlarge",
    "vcpuNum": 16
   },
   {
    "_defaultOrder": 25,
    "_isFastLaunch": false,
    "category": "Compute optimized",
    "gpuNum": 0,
    "hideHardwareSpecs": false,
    "memoryGiB": 72,
    "name": "ml.c5.9xlarge",
    "vcpuNum": 36
   },
   {
    "_defaultOrder": 26,
    "_isFastLaunch": false,
    "category": "Compute optimized",
    "gpuNum": 0,
    "hideHardwareSpecs": false,
    "memoryGiB": 96,
    "name": "ml.c5.12xlarge",
    "vcpuNum": 48
   },
   {
    "_defaultOrder": 27,
    "_isFastLaunch": false,
    "category": "Compute optimized",
    "gpuNum": 0,
    "hideHardwareSpecs": false,
    "memoryGiB": 144,
    "name": "ml.c5.18xlarge",
    "vcpuNum": 72
   },
   {
    "_defaultOrder": 28,
    "_isFastLaunch": false,
    "category": "Compute optimized",
    "gpuNum": 0,
    "hideHardwareSpecs": false,
    "memoryGiB": 192,
    "name": "ml.c5.24xlarge",
    "vcpuNum": 96
   },
   {
    "_defaultOrder": 29,
    "_isFastLaunch": true,
    "category": "Accelerated computing",
    "gpuNum": 1,
    "hideHardwareSpecs": false,
    "memoryGiB": 16,
    "name": "ml.g4dn.xlarge",
    "vcpuNum": 4
   },
   {
    "_defaultOrder": 30,
    "_isFastLaunch": false,
    "category": "Accelerated computing",
    "gpuNum": 1,
    "hideHardwareSpecs": false,
    "memoryGiB": 32,
    "name": "ml.g4dn.2xlarge",
    "vcpuNum": 8
   },
   {
    "_defaultOrder": 31,
    "_isFastLaunch": false,
    "category": "Accelerated computing",
    "gpuNum": 1,
    "hideHardwareSpecs": false,
    "memoryGiB": 64,
    "name": "ml.g4dn.4xlarge",
    "vcpuNum": 16
   },
   {
    "_defaultOrder": 32,
    "_isFastLaunch": false,
    "category": "Accelerated computing",
    "gpuNum": 1,
    "hideHardwareSpecs": false,
    "memoryGiB": 128,
    "name": "ml.g4dn.8xlarge",
    "vcpuNum": 32
   },
   {
    "_defaultOrder": 33,
    "_isFastLaunch": false,
    "category": "Accelerated computing",
    "gpuNum": 4,
    "hideHardwareSpecs": false,
    "memoryGiB": 192,
    "name": "ml.g4dn.12xlarge",
    "vcpuNum": 48
   },
   {
    "_defaultOrder": 34,
    "_isFastLaunch": false,
    "category": "Accelerated computing",
    "gpuNum": 1,
    "hideHardwareSpecs": false,
    "memoryGiB": 256,
    "name": "ml.g4dn.16xlarge",
    "vcpuNum": 64
   },
   {
    "_defaultOrder": 35,
    "_isFastLaunch": false,
    "category": "Accelerated computing",
    "gpuNum": 1,
    "hideHardwareSpecs": false,
    "memoryGiB": 61,
    "name": "ml.p3.2xlarge",
    "vcpuNum": 8
   },
   {
    "_defaultOrder": 36,
    "_isFastLaunch": false,
    "category": "Accelerated computing",
    "gpuNum": 4,
    "hideHardwareSpecs": false,
    "memoryGiB": 244,
    "name": "ml.p3.8xlarge",
    "vcpuNum": 32
   },
   {
    "_defaultOrder": 37,
    "_isFastLaunch": false,
    "category": "Accelerated computing",
    "gpuNum": 8,
    "hideHardwareSpecs": false,
    "memoryGiB": 488,
    "name": "ml.p3.16xlarge",
    "vcpuNum": 64
   },
   {
    "_defaultOrder": 38,
    "_isFastLaunch": false,
    "category": "Accelerated computing",
    "gpuNum": 8,
    "hideHardwareSpecs": false,
    "memoryGiB": 768,
    "name": "ml.p3dn.24xlarge",
    "vcpuNum": 96
   },
   {
    "_defaultOrder": 39,
    "_isFastLaunch": false,
    "category": "Memory Optimized",
    "gpuNum": 0,
    "hideHardwareSpecs": false,
    "memoryGiB": 16,
    "name": "ml.r5.large",
    "vcpuNum": 2
   },
   {
    "_defaultOrder": 40,
    "_isFastLaunch": false,
    "category": "Memory Optimized",
    "gpuNum": 0,
    "hideHardwareSpecs": false,
    "memoryGiB": 32,
    "name": "ml.r5.xlarge",
    "vcpuNum": 4
   },
   {
    "_defaultOrder": 41,
    "_isFastLaunch": false,
    "category": "Memory Optimized",
    "gpuNum": 0,
    "hideHardwareSpecs": false,
    "memoryGiB": 64,
    "name": "ml.r5.2xlarge",
    "vcpuNum": 8
   },
   {
    "_defaultOrder": 42,
    "_isFastLaunch": false,
    "category": "Memory Optimized",
    "gpuNum": 0,
    "hideHardwareSpecs": false,
    "memoryGiB": 128,
    "name": "ml.r5.4xlarge",
    "vcpuNum": 16
   },
   {
    "_defaultOrder": 43,
    "_isFastLaunch": false,
    "category": "Memory Optimized",
    "gpuNum": 0,
    "hideHardwareSpecs": false,
    "memoryGiB": 256,
    "name": "ml.r5.8xlarge",
    "vcpuNum": 32
   },
   {
    "_defaultOrder": 44,
    "_isFastLaunch": false,
    "category": "Memory Optimized",
    "gpuNum": 0,
    "hideHardwareSpecs": false,
    "memoryGiB": 384,
    "name": "ml.r5.12xlarge",
    "vcpuNum": 48
   },
   {
    "_defaultOrder": 45,
    "_isFastLaunch": false,
    "category": "Memory Optimized",
    "gpuNum": 0,
    "hideHardwareSpecs": false,
    "memoryGiB": 512,
    "name": "ml.r5.16xlarge",
    "vcpuNum": 64
   },
   {
    "_defaultOrder": 46,
    "_isFastLaunch": false,
    "category": "Memory Optimized",
    "gpuNum": 0,
    "hideHardwareSpecs": false,
    "memoryGiB": 768,
    "name": "ml.r5.24xlarge",
    "vcpuNum": 96
   },
   {
    "_defaultOrder": 47,
    "_isFastLaunch": false,
    "category": "Accelerated computing",
    "gpuNum": 1,
    "hideHardwareSpecs": false,
    "memoryGiB": 16,
    "name": "ml.g5.xlarge",
    "vcpuNum": 4
   },
   {
    "_defaultOrder": 48,
    "_isFastLaunch": false,
    "category": "Accelerated computing",
    "gpuNum": 1,
    "hideHardwareSpecs": false,
    "memoryGiB": 32,
    "name": "ml.g5.2xlarge",
    "vcpuNum": 8
   },
   {
    "_defaultOrder": 49,
    "_isFastLaunch": false,
    "category": "Accelerated computing",
    "gpuNum": 1,
    "hideHardwareSpecs": false,
    "memoryGiB": 64,
    "name": "ml.g5.4xlarge",
    "vcpuNum": 16
   },
   {
    "_defaultOrder": 50,
    "_isFastLaunch": false,
    "category": "Accelerated computing",
    "gpuNum": 1,
    "hideHardwareSpecs": false,
    "memoryGiB": 128,
    "name": "ml.g5.8xlarge",
    "vcpuNum": 32
   },
   {
    "_defaultOrder": 51,
    "_isFastLaunch": false,
    "category": "Accelerated computing",
    "gpuNum": 1,
    "hideHardwareSpecs": false,
    "memoryGiB": 256,
    "name": "ml.g5.16xlarge",
    "vcpuNum": 64
   },
   {
    "_defaultOrder": 52,
    "_isFastLaunch": false,
    "category": "Accelerated computing",
    "gpuNum": 4,
    "hideHardwareSpecs": false,
    "memoryGiB": 192,
    "name": "ml.g5.12xlarge",
    "vcpuNum": 48
   },
   {
    "_defaultOrder": 53,
    "_isFastLaunch": false,
    "category": "Accelerated computing",
    "gpuNum": 4,
    "hideHardwareSpecs": false,
    "memoryGiB": 384,
    "name": "ml.g5.24xlarge",
    "vcpuNum": 96
   },
   {
    "_defaultOrder": 54,
    "_isFastLaunch": false,
    "category": "Accelerated computing",
    "gpuNum": 8,
    "hideHardwareSpecs": false,
    "memoryGiB": 768,
    "name": "ml.g5.48xlarge",
    "vcpuNum": 192
   },
   {
    "_defaultOrder": 55,
    "_isFastLaunch": false,
    "category": "Accelerated computing",
    "gpuNum": 8,
    "hideHardwareSpecs": false,
    "memoryGiB": 1152,
    "name": "ml.p4d.24xlarge",
    "vcpuNum": 96
   },
   {
    "_defaultOrder": 56,
    "_isFastLaunch": false,
    "category": "Accelerated computing",
    "gpuNum": 8,
    "hideHardwareSpecs": false,
    "memoryGiB": 1152,
    "name": "ml.p4de.24xlarge",
    "vcpuNum": 96
   }
  ],
  "instance_type": "ml.t3.medium",
  "kernelspec": {
   "display_name": "Python 3 (Data Science 3.0)",
   "language": "python",
   "name": "python3__SAGEMAKER_INTERNAL__arn:aws:sagemaker:us-west-2:236514542706:image/sagemaker-data-science-310-v1"
  },
  "language_info": {
   "codemirror_mode": {
    "name": "ipython",
    "version": 3
   },
   "file_extension": ".py",
   "mimetype": "text/x-python",
   "name": "python",
   "nbconvert_exporter": "python",
   "pygments_lexer": "ipython3",
   "version": "3.10.6"
  }
 },
 "nbformat": 4,
 "nbformat_minor": 5
}
